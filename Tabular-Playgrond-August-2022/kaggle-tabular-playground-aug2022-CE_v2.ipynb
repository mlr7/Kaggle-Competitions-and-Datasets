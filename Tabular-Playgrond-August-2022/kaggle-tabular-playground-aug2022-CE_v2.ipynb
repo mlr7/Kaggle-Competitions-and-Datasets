{
 "cells": [
  {
   "cell_type": "code",
   "execution_count": null,
   "metadata": {},
   "outputs": [],
   "source": []
  },
  {
   "cell_type": "code",
   "execution_count": 1,
   "metadata": {},
   "outputs": [],
   "source": [
    "%matplotlib inline\n",
    "\n",
    "import pandas as pd\n",
    "\n",
    "from sklearn.model_selection import train_test_split\n",
    "\n",
    "import xgboost as xgb\n",
    "\n",
    "import matplotlib.pyplot as plt"
   ]
  },
  {
   "cell_type": "code",
   "execution_count": 2,
   "metadata": {},
   "outputs": [],
   "source": [
    "df_X = pd.read_csv('../INSERT_PATH/train_features_augTabularKggl_contextual_embedding1.csv')\n",
    "df_y = pd.read_csv('../INSERT_PATH/train_labels_augTabularKggl_forcontextualembedding1.csv')"
   ]
  },
  {
   "cell_type": "code",
   "execution_count": 3,
   "metadata": {},
   "outputs": [
    {
     "name": "stdout",
     "output_type": "stream",
     "text": [
      "(26570, 768) (26570, 1)\n"
     ]
    }
   ],
   "source": [
    "print(df_X.shape, df_y.shape)"
   ]
  },
  {
   "cell_type": "code",
   "execution_count": 4,
   "metadata": {},
   "outputs": [
    {
     "data": {
      "text/html": [
       "<div>\n",
       "<style scoped>\n",
       "    .dataframe tbody tr th:only-of-type {\n",
       "        vertical-align: middle;\n",
       "    }\n",
       "\n",
       "    .dataframe tbody tr th {\n",
       "        vertical-align: top;\n",
       "    }\n",
       "\n",
       "    .dataframe thead th {\n",
       "        text-align: right;\n",
       "    }\n",
       "</style>\n",
       "<table border=\"1\" class=\"dataframe\">\n",
       "  <thead>\n",
       "    <tr style=\"text-align: right;\">\n",
       "      <th></th>\n",
       "      <th>0</th>\n",
       "      <th>1</th>\n",
       "      <th>2</th>\n",
       "      <th>3</th>\n",
       "      <th>4</th>\n",
       "      <th>5</th>\n",
       "      <th>6</th>\n",
       "      <th>7</th>\n",
       "      <th>8</th>\n",
       "      <th>9</th>\n",
       "      <th>...</th>\n",
       "      <th>758</th>\n",
       "      <th>759</th>\n",
       "      <th>760</th>\n",
       "      <th>761</th>\n",
       "      <th>762</th>\n",
       "      <th>763</th>\n",
       "      <th>764</th>\n",
       "      <th>765</th>\n",
       "      <th>766</th>\n",
       "      <th>767</th>\n",
       "    </tr>\n",
       "  </thead>\n",
       "  <tbody>\n",
       "    <tr>\n",
       "      <th>0</th>\n",
       "      <td>-0.4377</td>\n",
       "      <td>-1.567</td>\n",
       "      <td>2.1100</td>\n",
       "      <td>1.355</td>\n",
       "      <td>-0.08940</td>\n",
       "      <td>0.6440</td>\n",
       "      <td>-1.9550</td>\n",
       "      <td>-0.4302</td>\n",
       "      <td>-0.54440</td>\n",
       "      <td>-1.1220</td>\n",
       "      <td>...</td>\n",
       "      <td>3.148</td>\n",
       "      <td>-0.70170</td>\n",
       "      <td>-1.2850</td>\n",
       "      <td>-0.0976</td>\n",
       "      <td>0.3857</td>\n",
       "      <td>-0.1011</td>\n",
       "      <td>0.5405</td>\n",
       "      <td>-0.701</td>\n",
       "      <td>0.48580</td>\n",
       "      <td>2.2500</td>\n",
       "    </tr>\n",
       "    <tr>\n",
       "      <th>1</th>\n",
       "      <td>0.4707</td>\n",
       "      <td>2.066</td>\n",
       "      <td>-1.3090</td>\n",
       "      <td>-2.193</td>\n",
       "      <td>0.01894</td>\n",
       "      <td>0.7197</td>\n",
       "      <td>-1.1170</td>\n",
       "      <td>-1.1130</td>\n",
       "      <td>-0.02931</td>\n",
       "      <td>-0.4336</td>\n",
       "      <td>...</td>\n",
       "      <td>1.069</td>\n",
       "      <td>0.36300</td>\n",
       "      <td>0.2883</td>\n",
       "      <td>-0.2210</td>\n",
       "      <td>0.2540</td>\n",
       "      <td>-0.2186</td>\n",
       "      <td>-1.7340</td>\n",
       "      <td>-0.828</td>\n",
       "      <td>-0.62000</td>\n",
       "      <td>-0.3735</td>\n",
       "    </tr>\n",
       "    <tr>\n",
       "      <th>2</th>\n",
       "      <td>0.5700</td>\n",
       "      <td>0.857</td>\n",
       "      <td>0.7754</td>\n",
       "      <td>-1.725</td>\n",
       "      <td>0.35160</td>\n",
       "      <td>2.1480</td>\n",
       "      <td>0.1236</td>\n",
       "      <td>0.2534</td>\n",
       "      <td>0.09265</td>\n",
       "      <td>-1.1820</td>\n",
       "      <td>...</td>\n",
       "      <td>1.224</td>\n",
       "      <td>0.02013</td>\n",
       "      <td>-0.6226</td>\n",
       "      <td>1.2070</td>\n",
       "      <td>-0.7160</td>\n",
       "      <td>-0.2317</td>\n",
       "      <td>1.0340</td>\n",
       "      <td>-1.053</td>\n",
       "      <td>0.11743</td>\n",
       "      <td>1.0170</td>\n",
       "    </tr>\n",
       "  </tbody>\n",
       "</table>\n",
       "<p>3 rows × 768 columns</p>\n",
       "</div>"
      ],
      "text/plain": [
       "        0      1       2      3        4       5       6       7        8  \\\n",
       "0 -0.4377 -1.567  2.1100  1.355 -0.08940  0.6440 -1.9550 -0.4302 -0.54440   \n",
       "1  0.4707  2.066 -1.3090 -2.193  0.01894  0.7197 -1.1170 -1.1130 -0.02931   \n",
       "2  0.5700  0.857  0.7754 -1.725  0.35160  2.1480  0.1236  0.2534  0.09265   \n",
       "\n",
       "        9  ...    758      759     760     761     762     763     764    765  \\\n",
       "0 -1.1220  ...  3.148 -0.70170 -1.2850 -0.0976  0.3857 -0.1011  0.5405 -0.701   \n",
       "1 -0.4336  ...  1.069  0.36300  0.2883 -0.2210  0.2540 -0.2186 -1.7340 -0.828   \n",
       "2 -1.1820  ...  1.224  0.02013 -0.6226  1.2070 -0.7160 -0.2317  1.0340 -1.053   \n",
       "\n",
       "       766     767  \n",
       "0  0.48580  2.2500  \n",
       "1 -0.62000 -0.3735  \n",
       "2  0.11743  1.0170  \n",
       "\n",
       "[3 rows x 768 columns]"
      ]
     },
     "execution_count": 4,
     "metadata": {},
     "output_type": "execute_result"
    }
   ],
   "source": [
    "df_X.head(3)"
   ]
  },
  {
   "cell_type": "code",
   "execution_count": 5,
   "metadata": {},
   "outputs": [
    {
     "name": "stdout",
     "output_type": "stream",
     "text": [
      "(21256, 768) (5314, 768) (21256, 1) (5314, 1)\n"
     ]
    }
   ],
   "source": [
    "X_train, X_test, y_train, y_test = train_test_split(df_X, df_y, test_size=0.2) # 0.33 #, random_state=42)\n",
    "print(X_train.shape, X_test.shape, y_train.shape, y_test.shape)"
   ]
  },
  {
   "cell_type": "markdown",
   "metadata": {},
   "source": [
    "### Address class imbalance in target\n",
    "\n",
    "(simple example, see: https://www.kaggle.com/code/ryanluoli2/blended-6-models-for-a-better-score)"
   ]
  },
  {
   "cell_type": "code",
   "execution_count": 6,
   "metadata": {},
   "outputs": [],
   "source": [
    "from imblearn.over_sampling import SMOTE"
   ]
  },
  {
   "cell_type": "code",
   "execution_count": 9,
   "metadata": {},
   "outputs": [
    {
     "name": "stdout",
     "output_type": "stream",
     "text": [
      "(21256, 768)\n",
      "(33490, 768)\n"
     ]
    }
   ],
   "source": [
    "print(X_train.shape)\n",
    "\n",
    "oversample = SMOTE()\n",
    "\n",
    "X_train, y_train = oversample.fit_resample(X_train, y_train)\n",
    "\n",
    "print(X_train.shape)"
   ]
  },
  {
   "cell_type": "code",
   "execution_count": 12,
   "metadata": {},
   "outputs": [
    {
     "data": {
      "text/html": [
       "<div>\n",
       "<style scoped>\n",
       "    .dataframe tbody tr th:only-of-type {\n",
       "        vertical-align: middle;\n",
       "    }\n",
       "\n",
       "    .dataframe tbody tr th {\n",
       "        vertical-align: top;\n",
       "    }\n",
       "\n",
       "    .dataframe thead th {\n",
       "        text-align: right;\n",
       "    }\n",
       "</style>\n",
       "<table border=\"1\" class=\"dataframe\">\n",
       "  <thead>\n",
       "    <tr style=\"text-align: right;\">\n",
       "      <th></th>\n",
       "      <th>0</th>\n",
       "    </tr>\n",
       "  </thead>\n",
       "  <tbody>\n",
       "    <tr>\n",
       "      <th>0</th>\n",
       "      <td>0</td>\n",
       "    </tr>\n",
       "    <tr>\n",
       "      <th>1</th>\n",
       "      <td>0</td>\n",
       "    </tr>\n",
       "    <tr>\n",
       "      <th>2</th>\n",
       "      <td>0</td>\n",
       "    </tr>\n",
       "    <tr>\n",
       "      <th>3</th>\n",
       "      <td>0</td>\n",
       "    </tr>\n",
       "    <tr>\n",
       "      <th>4</th>\n",
       "      <td>1</td>\n",
       "    </tr>\n",
       "    <tr>\n",
       "      <th>...</th>\n",
       "      <td>...</td>\n",
       "    </tr>\n",
       "    <tr>\n",
       "      <th>33485</th>\n",
       "      <td>1</td>\n",
       "    </tr>\n",
       "    <tr>\n",
       "      <th>33486</th>\n",
       "      <td>1</td>\n",
       "    </tr>\n",
       "    <tr>\n",
       "      <th>33487</th>\n",
       "      <td>1</td>\n",
       "    </tr>\n",
       "    <tr>\n",
       "      <th>33488</th>\n",
       "      <td>1</td>\n",
       "    </tr>\n",
       "    <tr>\n",
       "      <th>33489</th>\n",
       "      <td>1</td>\n",
       "    </tr>\n",
       "  </tbody>\n",
       "</table>\n",
       "<p>33490 rows × 1 columns</p>\n",
       "</div>"
      ],
      "text/plain": [
       "       0\n",
       "0      0\n",
       "1      0\n",
       "2      0\n",
       "3      0\n",
       "4      1\n",
       "...   ..\n",
       "33485  1\n",
       "33486  1\n",
       "33487  1\n",
       "33488  1\n",
       "33489  1\n",
       "\n",
       "[33490 rows x 1 columns]"
      ]
     },
     "execution_count": 12,
     "metadata": {},
     "output_type": "execute_result"
    }
   ],
   "source": [
    "y_train"
   ]
  },
  {
   "cell_type": "markdown",
   "metadata": {},
   "source": [
    "### Create baseline xgboost classifier"
   ]
  },
  {
   "cell_type": "code",
   "execution_count": 10,
   "metadata": {},
   "outputs": [],
   "source": [
    "xgb_clf = xgb.XGBClassifier()"
   ]
  },
  {
   "cell_type": "code",
   "execution_count": 11,
   "metadata": {},
   "outputs": [
    {
     "name": "stderr",
     "output_type": "stream",
     "text": [
      "C:\\Users\\m85302\\Anaconda3b\\envs\\seqDarts1\\lib\\site-packages\\xgboost\\sklearn.py:1224: UserWarning: The use of label encoder in XGBClassifier is deprecated and will be removed in a future release. To remove this warning, do the following: 1) Pass option use_label_encoder=False when constructing XGBClassifier object; and 2) Encode your labels (y) as integers starting with 0, i.e. 0, 1, 2, ..., [num_class - 1].\n",
      "  warnings.warn(label_encoder_deprecation_msg, UserWarning)\n",
      "C:\\Users\\m85302\\Anaconda3b\\envs\\seqDarts1\\lib\\site-packages\\sklearn\\preprocessing\\_label.py:98: DataConversionWarning: A column-vector y was passed when a 1d array was expected. Please change the shape of y to (n_samples, ), for example using ravel().\n",
      "  y = column_or_1d(y, warn=True)\n",
      "C:\\Users\\m85302\\Anaconda3b\\envs\\seqDarts1\\lib\\site-packages\\sklearn\\preprocessing\\_label.py:133: DataConversionWarning: A column-vector y was passed when a 1d array was expected. Please change the shape of y to (n_samples, ), for example using ravel().\n",
      "  y = column_or_1d(y, warn=True)\n"
     ]
    },
    {
     "name": "stdout",
     "output_type": "stream",
     "text": [
      "[23:35:56] WARNING: D:\\bld\\xgboost-split_1645118015404\\work\\src\\learner.cc:1115: Starting in XGBoost 1.3.0, the default evaluation metric used with the objective 'binary:logistic' was changed from 'error' to 'logloss'. Explicitly set eval_metric if you'd like to restore the old behavior.\n"
     ]
    },
    {
     "data": {
      "text/plain": [
       "XGBClassifier(base_score=0.5, booster='gbtree', colsample_bylevel=1,\n",
       "              colsample_bynode=1, colsample_bytree=1, enable_categorical=False,\n",
       "              gamma=0, gpu_id=-1, importance_type=None,\n",
       "              interaction_constraints='', learning_rate=0.300000012,\n",
       "              max_delta_step=0, max_depth=6, min_child_weight=1, missing=nan,\n",
       "              monotone_constraints='()', n_estimators=100, n_jobs=8,\n",
       "              num_parallel_tree=1, predictor='auto', random_state=0,\n",
       "              reg_alpha=0, reg_lambda=1, scale_pos_weight=1, subsample=1,\n",
       "              tree_method='exact', validate_parameters=1, verbosity=None)"
      ]
     },
     "execution_count": 11,
     "metadata": {},
     "output_type": "execute_result"
    }
   ],
   "source": [
    "xgb_clf.fit(X_train, y_train)"
   ]
  },
  {
   "cell_type": "code",
   "execution_count": 13,
   "metadata": {},
   "outputs": [],
   "source": [
    "y_pred = xgb_clf.predict(X_test)"
   ]
  },
  {
   "cell_type": "code",
   "execution_count": 14,
   "metadata": {},
   "outputs": [],
   "source": [
    "def eval_ml_model(label, y_test_in, y_pred_in):\n",
    "    \"\"\"\n",
    "    Evaluate maching learning (ML) model, binary classification\n",
    "    \"\"\"\n",
    "    # ML model evaluation\n",
    "    from sklearn.metrics import accuracy_score, precision_score\n",
    "    from sklearn.metrics import recall_score, f1_score, roc_auc_score\n",
    "    from sklearn.metrics import confusion_matrix    \n",
    "    \n",
    "    print(label)\n",
    "    print(\" \")\n",
    "    \n",
    "    score_accuracy = accuracy_score(y_test_in, y_pred_in)\n",
    "    score_precision = precision_score(y_test_in, y_pred_in)\n",
    "    score_recall = recall_score(y_test_in, y_pred_in)\n",
    "    score_f1 = f1_score(y_test_in, y_pred_in)\n",
    "    score_roc_auc = roc_auc_score(y_test_in, y_pred_in)\n",
    "    score_confmat = confusion_matrix(y_test_in, y_pred_in)\n",
    "    \n",
    "    print('Accuracy: ', score_accuracy)\n",
    "    print('Precision: ', score_precision)\n",
    "    print('Recall: ', score_recall)\n",
    "    print('F1: ', score_f1)\n",
    "    print('ROC_AUC:', score_roc_auc)\n",
    "    print(score_confmat)\n",
    "    viz_confusion_matrix(score_confmat)\n",
    "    print(\" \")"
   ]
  },
  {
   "cell_type": "code",
   "execution_count": 15,
   "metadata": {},
   "outputs": [],
   "source": [
    "def viz_confusion_matrix(confmat):\n",
    "    fig, ax = plt.subplots(figsize=(2.5, 2.5))\n",
    "    ax.matshow(confmat, cmap=plt.cm.Blues, alpha=0.3)\n",
    "    for i in range(confmat.shape[0]):\n",
    "        for j in range(confmat.shape[1]):\n",
    "            ax.text(x=j, y=i, s=confmat[i, j], va='center', ha='center')\n",
    "\n",
    "    plt.xlabel('predicted label')\n",
    "    plt.ylabel('true label')\n",
    "\n",
    "    plt.tight_layout()\n",
    "    # plt.savefig('./figures/confusion_matrix.png', dpi=300)\n",
    "    plt.show()"
   ]
  },
  {
   "cell_type": "code",
   "execution_count": 16,
   "metadata": {},
   "outputs": [
    {
     "name": "stdout",
     "output_type": "stream",
     "text": [
      "Label\n",
      " \n",
      "Accuracy:  0.681972149040271\n",
      "Precision:  0.2361376673040153\n",
      "Recall:  0.21704745166959577\n",
      "F1:  0.2261904761904762\n",
      "ROC_AUC: 0.5128580170225373\n",
      "[[3377  799]\n",
      " [ 891  247]]\n"
     ]
    },
    {
     "data": {
      "image/png": "[encoded data removed]",
      "text/plain": [
       "<Figure size 180x180 with 1 Axes>"
      ]
     },
     "metadata": {
      "needs_background": "light"
     },
     "output_type": "display_data"
    },
    {
     "name": "stdout",
     "output_type": "stream",
     "text": [
      " \n"
     ]
    }
   ],
   "source": [
    "eval_ml_model('Label', y_test, y_pred)"
   ]
  },
  {
   "cell_type": "code",
   "execution_count": null,
   "metadata": {},
   "outputs": [],
   "source": []
  }
 ],
 "metadata": {
  "kernelspec": {
   "display_name": "Python 3",
   "language": "python",
   "name": "python3"
  },
  "language_info": {
   "codemirror_mode": {
    "name": "ipython",
    "version": 3
   },
   "file_extension": ".py",
   "mimetype": "text/x-python",
   "name": "python",
   "nbconvert_exporter": "python",
   "pygments_lexer": "ipython3",
   "version": "3.8.5"
  }
 },
 "nbformat": 4,
 "nbformat_minor": 5
}
