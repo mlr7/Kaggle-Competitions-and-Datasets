{
 "cells": [
  {
   "cell_type": "code",
   "execution_count": null,
   "metadata": {},
   "outputs": [],
   "source": []
  },
  {
   "cell_type": "code",
   "execution_count": 1,
   "metadata": {},
   "outputs": [],
   "source": [
    "%matplotlib inline\n",
    "\n",
    "import numpy as np\n",
    "import pandas as pd\n",
    "\n",
    "import matplotlib.pyplot as plt\n",
    "import seaborn as sns"
   ]
  },
  {
   "cell_type": "code",
   "execution_count": 2,
   "metadata": {},
   "outputs": [
    {
     "name": "stdout",
     "output_type": "stream",
     "text": [
      "(26570, 26)\n",
      "Index(['id', 'product_code', 'loading', 'attribute_0', 'attribute_1',\n",
      "       'attribute_2', 'attribute_3', 'measurement_0', 'measurement_1',\n",
      "       'measurement_2', 'measurement_3', 'measurement_4', 'measurement_5',\n",
      "       'measurement_6', 'measurement_7', 'measurement_8', 'measurement_9',\n",
      "       'measurement_10', 'measurement_11', 'measurement_12', 'measurement_13',\n",
      "       'measurement_14', 'measurement_15', 'measurement_16', 'measurement_17',\n",
      "       'failure'],\n",
      "      dtype='object')\n"
     ]
    },
    {
     "data": {
      "text/html": [
       "<div>\n",
       "<style scoped>\n",
       "    .dataframe tbody tr th:only-of-type {\n",
       "        vertical-align: middle;\n",
       "    }\n",
       "\n",
       "    .dataframe tbody tr th {\n",
       "        vertical-align: top;\n",
       "    }\n",
       "\n",
       "    .dataframe thead th {\n",
       "        text-align: right;\n",
       "    }\n",
       "</style>\n",
       "<table border=\"1\" class=\"dataframe\">\n",
       "  <thead>\n",
       "    <tr style=\"text-align: right;\">\n",
       "      <th></th>\n",
       "      <th>id</th>\n",
       "      <th>product_code</th>\n",
       "      <th>loading</th>\n",
       "      <th>attribute_0</th>\n",
       "      <th>attribute_1</th>\n",
       "      <th>attribute_2</th>\n",
       "      <th>attribute_3</th>\n",
       "      <th>measurement_0</th>\n",
       "      <th>measurement_1</th>\n",
       "      <th>measurement_2</th>\n",
       "      <th>...</th>\n",
       "      <th>measurement_9</th>\n",
       "      <th>measurement_10</th>\n",
       "      <th>measurement_11</th>\n",
       "      <th>measurement_12</th>\n",
       "      <th>measurement_13</th>\n",
       "      <th>measurement_14</th>\n",
       "      <th>measurement_15</th>\n",
       "      <th>measurement_16</th>\n",
       "      <th>measurement_17</th>\n",
       "      <th>failure</th>\n",
       "    </tr>\n",
       "  </thead>\n",
       "  <tbody>\n",
       "    <tr>\n",
       "      <th>0</th>\n",
       "      <td>0</td>\n",
       "      <td>A</td>\n",
       "      <td>80.10</td>\n",
       "      <td>material_7</td>\n",
       "      <td>material_8</td>\n",
       "      <td>9</td>\n",
       "      <td>5</td>\n",
       "      <td>7</td>\n",
       "      <td>8</td>\n",
       "      <td>4</td>\n",
       "      <td>...</td>\n",
       "      <td>10.672</td>\n",
       "      <td>15.859</td>\n",
       "      <td>17.594</td>\n",
       "      <td>15.193</td>\n",
       "      <td>15.029</td>\n",
       "      <td>NaN</td>\n",
       "      <td>13.034</td>\n",
       "      <td>14.684</td>\n",
       "      <td>764.100</td>\n",
       "      <td>0</td>\n",
       "    </tr>\n",
       "    <tr>\n",
       "      <th>1</th>\n",
       "      <td>1</td>\n",
       "      <td>A</td>\n",
       "      <td>84.89</td>\n",
       "      <td>material_7</td>\n",
       "      <td>material_8</td>\n",
       "      <td>9</td>\n",
       "      <td>5</td>\n",
       "      <td>14</td>\n",
       "      <td>3</td>\n",
       "      <td>3</td>\n",
       "      <td>...</td>\n",
       "      <td>12.448</td>\n",
       "      <td>17.947</td>\n",
       "      <td>17.915</td>\n",
       "      <td>11.755</td>\n",
       "      <td>14.732</td>\n",
       "      <td>15.425</td>\n",
       "      <td>14.395</td>\n",
       "      <td>15.631</td>\n",
       "      <td>682.057</td>\n",
       "      <td>0</td>\n",
       "    </tr>\n",
       "    <tr>\n",
       "      <th>2</th>\n",
       "      <td>2</td>\n",
       "      <td>A</td>\n",
       "      <td>82.43</td>\n",
       "      <td>material_7</td>\n",
       "      <td>material_8</td>\n",
       "      <td>9</td>\n",
       "      <td>5</td>\n",
       "      <td>12</td>\n",
       "      <td>1</td>\n",
       "      <td>5</td>\n",
       "      <td>...</td>\n",
       "      <td>12.715</td>\n",
       "      <td>15.607</td>\n",
       "      <td>NaN</td>\n",
       "      <td>13.798</td>\n",
       "      <td>16.711</td>\n",
       "      <td>18.631</td>\n",
       "      <td>14.094</td>\n",
       "      <td>17.946</td>\n",
       "      <td>663.376</td>\n",
       "      <td>0</td>\n",
       "    </tr>\n",
       "  </tbody>\n",
       "</table>\n",
       "<p>3 rows × 26 columns</p>\n",
       "</div>"
      ],
      "text/plain": [
       "   id product_code  loading attribute_0 attribute_1  attribute_2  attribute_3  \\\n",
       "0   0            A    80.10  material_7  material_8            9            5   \n",
       "1   1            A    84.89  material_7  material_8            9            5   \n",
       "2   2            A    82.43  material_7  material_8            9            5   \n",
       "\n",
       "   measurement_0  measurement_1  measurement_2  ...  measurement_9  \\\n",
       "0              7              8              4  ...         10.672   \n",
       "1             14              3              3  ...         12.448   \n",
       "2             12              1              5  ...         12.715   \n",
       "\n",
       "   measurement_10  measurement_11  measurement_12  measurement_13  \\\n",
       "0          15.859          17.594          15.193          15.029   \n",
       "1          17.947          17.915          11.755          14.732   \n",
       "2          15.607             NaN          13.798          16.711   \n",
       "\n",
       "   measurement_14  measurement_15  measurement_16  measurement_17  failure  \n",
       "0             NaN          13.034          14.684         764.100        0  \n",
       "1          15.425          14.395          15.631         682.057        0  \n",
       "2          18.631          14.094          17.946         663.376        0  \n",
       "\n",
       "[3 rows x 26 columns]"
      ]
     },
     "metadata": {},
     "output_type": "display_data"
    },
    {
     "data": {
      "text/html": [
       "<div>\n",
       "<style scoped>\n",
       "    .dataframe tbody tr th:only-of-type {\n",
       "        vertical-align: middle;\n",
       "    }\n",
       "\n",
       "    .dataframe tbody tr th {\n",
       "        vertical-align: top;\n",
       "    }\n",
       "\n",
       "    .dataframe thead th {\n",
       "        text-align: right;\n",
       "    }\n",
       "</style>\n",
       "<table border=\"1\" class=\"dataframe\">\n",
       "  <thead>\n",
       "    <tr style=\"text-align: right;\">\n",
       "      <th></th>\n",
       "      <th>id</th>\n",
       "      <th>product_code</th>\n",
       "      <th>loading</th>\n",
       "      <th>attribute_0</th>\n",
       "      <th>attribute_1</th>\n",
       "      <th>attribute_2</th>\n",
       "      <th>attribute_3</th>\n",
       "      <th>measurement_0</th>\n",
       "      <th>measurement_1</th>\n",
       "      <th>measurement_2</th>\n",
       "      <th>...</th>\n",
       "      <th>measurement_9</th>\n",
       "      <th>measurement_10</th>\n",
       "      <th>measurement_11</th>\n",
       "      <th>measurement_12</th>\n",
       "      <th>measurement_13</th>\n",
       "      <th>measurement_14</th>\n",
       "      <th>measurement_15</th>\n",
       "      <th>measurement_16</th>\n",
       "      <th>measurement_17</th>\n",
       "      <th>failure</th>\n",
       "    </tr>\n",
       "  </thead>\n",
       "  <tbody>\n",
       "    <tr>\n",
       "      <th>26567</th>\n",
       "      <td>26567</td>\n",
       "      <td>E</td>\n",
       "      <td>115.62</td>\n",
       "      <td>material_7</td>\n",
       "      <td>material_6</td>\n",
       "      <td>6</td>\n",
       "      <td>9</td>\n",
       "      <td>1</td>\n",
       "      <td>10</td>\n",
       "      <td>1</td>\n",
       "      <td>...</td>\n",
       "      <td>11.407</td>\n",
       "      <td>16.437</td>\n",
       "      <td>17.476</td>\n",
       "      <td>8.668</td>\n",
       "      <td>15.069</td>\n",
       "      <td>16.599</td>\n",
       "      <td>15.590</td>\n",
       "      <td>14.065</td>\n",
       "      <td>750.364</td>\n",
       "      <td>0</td>\n",
       "    </tr>\n",
       "    <tr>\n",
       "      <th>26568</th>\n",
       "      <td>26568</td>\n",
       "      <td>E</td>\n",
       "      <td>106.38</td>\n",
       "      <td>material_7</td>\n",
       "      <td>material_6</td>\n",
       "      <td>6</td>\n",
       "      <td>9</td>\n",
       "      <td>2</td>\n",
       "      <td>9</td>\n",
       "      <td>4</td>\n",
       "      <td>...</td>\n",
       "      <td>11.392</td>\n",
       "      <td>17.064</td>\n",
       "      <td>17.814</td>\n",
       "      <td>14.928</td>\n",
       "      <td>16.273</td>\n",
       "      <td>15.485</td>\n",
       "      <td>13.624</td>\n",
       "      <td>12.865</td>\n",
       "      <td>730.156</td>\n",
       "      <td>0</td>\n",
       "    </tr>\n",
       "    <tr>\n",
       "      <th>26569</th>\n",
       "      <td>26569</td>\n",
       "      <td>E</td>\n",
       "      <td>131.20</td>\n",
       "      <td>material_7</td>\n",
       "      <td>material_6</td>\n",
       "      <td>6</td>\n",
       "      <td>9</td>\n",
       "      <td>6</td>\n",
       "      <td>19</td>\n",
       "      <td>1</td>\n",
       "      <td>...</td>\n",
       "      <td>10.611</td>\n",
       "      <td>15.603</td>\n",
       "      <td>19.703</td>\n",
       "      <td>11.006</td>\n",
       "      <td>15.875</td>\n",
       "      <td>13.366</td>\n",
       "      <td>16.527</td>\n",
       "      <td>17.890</td>\n",
       "      <td>602.354</td>\n",
       "      <td>0</td>\n",
       "    </tr>\n",
       "  </tbody>\n",
       "</table>\n",
       "<p>3 rows × 26 columns</p>\n",
       "</div>"
      ],
      "text/plain": [
       "          id product_code  loading attribute_0 attribute_1  attribute_2  \\\n",
       "26567  26567            E   115.62  material_7  material_6            6   \n",
       "26568  26568            E   106.38  material_7  material_6            6   \n",
       "26569  26569            E   131.20  material_7  material_6            6   \n",
       "\n",
       "       attribute_3  measurement_0  measurement_1  measurement_2  ...  \\\n",
       "26567            9              1             10              1  ...   \n",
       "26568            9              2              9              4  ...   \n",
       "26569            9              6             19              1  ...   \n",
       "\n",
       "       measurement_9  measurement_10  measurement_11  measurement_12  \\\n",
       "26567         11.407          16.437          17.476           8.668   \n",
       "26568         11.392          17.064          17.814          14.928   \n",
       "26569         10.611          15.603          19.703          11.006   \n",
       "\n",
       "       measurement_13  measurement_14  measurement_15  measurement_16  \\\n",
       "26567          15.069          16.599          15.590          14.065   \n",
       "26568          16.273          15.485          13.624          12.865   \n",
       "26569          15.875          13.366          16.527          17.890   \n",
       "\n",
       "       measurement_17  failure  \n",
       "26567         750.364        0  \n",
       "26568         730.156        0  \n",
       "26569         602.354        0  \n",
       "\n",
       "[3 rows x 26 columns]"
      ]
     },
     "metadata": {},
     "output_type": "display_data"
    }
   ],
   "source": [
    "df = pd.read_csv('../INSERT_PATH/train.csv')\n",
    "\n",
    "print(df.shape)\n",
    "print(df.columns)\n",
    "display(df.head(3))\n",
    "display(df.tail(3))"
   ]
  },
  {
   "cell_type": "code",
   "execution_count": 3,
   "metadata": {
    "scrolled": true
   },
   "outputs": [
    {
     "data": {
      "text/plain": [
       "material_8    10865\n",
       "material_5    10362\n",
       "material_6     5343\n",
       "Name: attribute_1, dtype: int64"
      ]
     },
     "execution_count": 3,
     "metadata": {},
     "output_type": "execute_result"
    }
   ],
   "source": [
    "df['failure'].value_counts()\n",
    "\n",
    "df['product_code'].value_counts()\n",
    "\n",
    "df['attribute_0'].value_counts()\n",
    "\n",
    "df['attribute_1'].value_counts()"
   ]
  },
  {
   "cell_type": "code",
   "execution_count": 4,
   "metadata": {},
   "outputs": [
    {
     "data": {
      "text/html": [
       "<div>\n",
       "<style scoped>\n",
       "    .dataframe tbody tr th:only-of-type {\n",
       "        vertical-align: middle;\n",
       "    }\n",
       "\n",
       "    .dataframe tbody tr th {\n",
       "        vertical-align: top;\n",
       "    }\n",
       "\n",
       "    .dataframe thead th {\n",
       "        text-align: right;\n",
       "    }\n",
       "</style>\n",
       "<table border=\"1\" class=\"dataframe\">\n",
       "  <thead>\n",
       "    <tr style=\"text-align: right;\">\n",
       "      <th></th>\n",
       "      <th>id</th>\n",
       "      <th>product_code</th>\n",
       "      <th>loading</th>\n",
       "      <th>attribute_0</th>\n",
       "      <th>attribute_1</th>\n",
       "      <th>attribute_2</th>\n",
       "      <th>attribute_3</th>\n",
       "      <th>measurement_0</th>\n",
       "      <th>measurement_1</th>\n",
       "      <th>measurement_2</th>\n",
       "      <th>...</th>\n",
       "      <th>measurement_9</th>\n",
       "      <th>measurement_10</th>\n",
       "      <th>measurement_11</th>\n",
       "      <th>measurement_12</th>\n",
       "      <th>measurement_13</th>\n",
       "      <th>measurement_14</th>\n",
       "      <th>measurement_15</th>\n",
       "      <th>measurement_16</th>\n",
       "      <th>measurement_17</th>\n",
       "      <th>failure</th>\n",
       "    </tr>\n",
       "  </thead>\n",
       "  <tbody>\n",
       "    <tr>\n",
       "      <th>0</th>\n",
       "      <td>0</td>\n",
       "      <td>A</td>\n",
       "      <td>80.10</td>\n",
       "      <td>material_7</td>\n",
       "      <td>material_8</td>\n",
       "      <td>9</td>\n",
       "      <td>5</td>\n",
       "      <td>7</td>\n",
       "      <td>8</td>\n",
       "      <td>4</td>\n",
       "      <td>...</td>\n",
       "      <td>10.672</td>\n",
       "      <td>15.859</td>\n",
       "      <td>17.594</td>\n",
       "      <td>15.193</td>\n",
       "      <td>15.029</td>\n",
       "      <td>NaN</td>\n",
       "      <td>13.034</td>\n",
       "      <td>14.684</td>\n",
       "      <td>764.100</td>\n",
       "      <td>0</td>\n",
       "    </tr>\n",
       "    <tr>\n",
       "      <th>1</th>\n",
       "      <td>1</td>\n",
       "      <td>A</td>\n",
       "      <td>84.89</td>\n",
       "      <td>material_7</td>\n",
       "      <td>material_8</td>\n",
       "      <td>9</td>\n",
       "      <td>5</td>\n",
       "      <td>14</td>\n",
       "      <td>3</td>\n",
       "      <td>3</td>\n",
       "      <td>...</td>\n",
       "      <td>12.448</td>\n",
       "      <td>17.947</td>\n",
       "      <td>17.915</td>\n",
       "      <td>11.755</td>\n",
       "      <td>14.732</td>\n",
       "      <td>15.425</td>\n",
       "      <td>14.395</td>\n",
       "      <td>15.631</td>\n",
       "      <td>682.057</td>\n",
       "      <td>0</td>\n",
       "    </tr>\n",
       "  </tbody>\n",
       "</table>\n",
       "<p>2 rows × 26 columns</p>\n",
       "</div>"
      ],
      "text/plain": [
       "   id product_code  loading attribute_0 attribute_1  attribute_2  attribute_3  \\\n",
       "0   0            A    80.10  material_7  material_8            9            5   \n",
       "1   1            A    84.89  material_7  material_8            9            5   \n",
       "\n",
       "   measurement_0  measurement_1  measurement_2  ...  measurement_9  \\\n",
       "0              7              8              4  ...         10.672   \n",
       "1             14              3              3  ...         12.448   \n",
       "\n",
       "   measurement_10  measurement_11  measurement_12  measurement_13  \\\n",
       "0          15.859          17.594          15.193          15.029   \n",
       "1          17.947          17.915          11.755          14.732   \n",
       "\n",
       "   measurement_14  measurement_15  measurement_16  measurement_17  failure  \n",
       "0             NaN          13.034          14.684         764.100        0  \n",
       "1          15.425          14.395          15.631         682.057        0  \n",
       "\n",
       "[2 rows x 26 columns]"
      ]
     },
     "metadata": {},
     "output_type": "display_data"
    },
    {
     "data": {
      "text/html": [
       "<div>\n",
       "<style scoped>\n",
       "    .dataframe tbody tr th:only-of-type {\n",
       "        vertical-align: middle;\n",
       "    }\n",
       "\n",
       "    .dataframe tbody tr th {\n",
       "        vertical-align: top;\n",
       "    }\n",
       "\n",
       "    .dataframe thead th {\n",
       "        text-align: right;\n",
       "    }\n",
       "</style>\n",
       "<table border=\"1\" class=\"dataframe\">\n",
       "  <thead>\n",
       "    <tr style=\"text-align: right;\">\n",
       "      <th></th>\n",
       "      <th>id</th>\n",
       "      <th>product_code</th>\n",
       "      <th>loading</th>\n",
       "      <th>attribute_0</th>\n",
       "      <th>attribute_1</th>\n",
       "      <th>attribute_2</th>\n",
       "      <th>attribute_3</th>\n",
       "      <th>measurement_0</th>\n",
       "      <th>measurement_1</th>\n",
       "      <th>measurement_2</th>\n",
       "      <th>...</th>\n",
       "      <th>measurement_9</th>\n",
       "      <th>measurement_10</th>\n",
       "      <th>measurement_11</th>\n",
       "      <th>measurement_12</th>\n",
       "      <th>measurement_13</th>\n",
       "      <th>measurement_14</th>\n",
       "      <th>measurement_15</th>\n",
       "      <th>measurement_16</th>\n",
       "      <th>measurement_17</th>\n",
       "      <th>failure</th>\n",
       "    </tr>\n",
       "  </thead>\n",
       "  <tbody>\n",
       "    <tr>\n",
       "      <th>26568</th>\n",
       "      <td>26568</td>\n",
       "      <td>E</td>\n",
       "      <td>106.38</td>\n",
       "      <td>material_7</td>\n",
       "      <td>material_6</td>\n",
       "      <td>6</td>\n",
       "      <td>9</td>\n",
       "      <td>2</td>\n",
       "      <td>9</td>\n",
       "      <td>4</td>\n",
       "      <td>...</td>\n",
       "      <td>11.392</td>\n",
       "      <td>17.064</td>\n",
       "      <td>17.814</td>\n",
       "      <td>14.928</td>\n",
       "      <td>16.273</td>\n",
       "      <td>15.485</td>\n",
       "      <td>13.624</td>\n",
       "      <td>12.865</td>\n",
       "      <td>730.156</td>\n",
       "      <td>0</td>\n",
       "    </tr>\n",
       "    <tr>\n",
       "      <th>26569</th>\n",
       "      <td>26569</td>\n",
       "      <td>E</td>\n",
       "      <td>131.20</td>\n",
       "      <td>material_7</td>\n",
       "      <td>material_6</td>\n",
       "      <td>6</td>\n",
       "      <td>9</td>\n",
       "      <td>6</td>\n",
       "      <td>19</td>\n",
       "      <td>1</td>\n",
       "      <td>...</td>\n",
       "      <td>10.611</td>\n",
       "      <td>15.603</td>\n",
       "      <td>19.703</td>\n",
       "      <td>11.006</td>\n",
       "      <td>15.875</td>\n",
       "      <td>13.366</td>\n",
       "      <td>16.527</td>\n",
       "      <td>17.890</td>\n",
       "      <td>602.354</td>\n",
       "      <td>0</td>\n",
       "    </tr>\n",
       "  </tbody>\n",
       "</table>\n",
       "<p>2 rows × 26 columns</p>\n",
       "</div>"
      ],
      "text/plain": [
       "          id product_code  loading attribute_0 attribute_1  attribute_2  \\\n",
       "26568  26568            E   106.38  material_7  material_6            6   \n",
       "26569  26569            E   131.20  material_7  material_6            6   \n",
       "\n",
       "       attribute_3  measurement_0  measurement_1  measurement_2  ...  \\\n",
       "26568            9              2              9              4  ...   \n",
       "26569            9              6             19              1  ...   \n",
       "\n",
       "       measurement_9  measurement_10  measurement_11  measurement_12  \\\n",
       "26568         11.392          17.064          17.814          14.928   \n",
       "26569         10.611          15.603          19.703          11.006   \n",
       "\n",
       "       measurement_13  measurement_14  measurement_15  measurement_16  \\\n",
       "26568          16.273          15.485          13.624          12.865   \n",
       "26569          15.875          13.366          16.527          17.890   \n",
       "\n",
       "       measurement_17  failure  \n",
       "26568         730.156        0  \n",
       "26569         602.354        0  \n",
       "\n",
       "[2 rows x 26 columns]"
      ]
     },
     "metadata": {},
     "output_type": "display_data"
    }
   ],
   "source": [
    "display(df.head(2))\n",
    "display(df.tail(2))"
   ]
  },
  {
   "cell_type": "code",
   "execution_count": 5,
   "metadata": {},
   "outputs": [
    {
     "data": {
      "text/plain": [
       "Index(['id', 'product_code', 'loading', 'attribute_0', 'attribute_1',\n",
       "       'attribute_2', 'attribute_3', 'measurement_0', 'measurement_1',\n",
       "       'measurement_2', 'measurement_3', 'measurement_4', 'measurement_5',\n",
       "       'measurement_6', 'measurement_7', 'measurement_8', 'measurement_9',\n",
       "       'measurement_10', 'measurement_11', 'measurement_12', 'measurement_13',\n",
       "       'measurement_14', 'measurement_15', 'measurement_16', 'measurement_17',\n",
       "       'failure'],\n",
       "      dtype='object')"
      ]
     },
     "execution_count": 5,
     "metadata": {},
     "output_type": "execute_result"
    }
   ],
   "source": [
    "df.columns"
   ]
  },
  {
   "cell_type": "code",
   "execution_count": 6,
   "metadata": {},
   "outputs": [],
   "source": [
    "df_X = df[['product_code', 'loading', 'attribute_0', 'attribute_1',\n",
    "       'attribute_2', 'attribute_3', 'measurement_0', 'measurement_1',\n",
    "       'measurement_2', 'measurement_3', 'measurement_4', 'measurement_5',\n",
    "       'measurement_6', 'measurement_7', 'measurement_8', 'measurement_9',\n",
    "       'measurement_10', 'measurement_11', 'measurement_12', 'measurement_13',\n",
    "       'measurement_14', 'measurement_15', 'measurement_16', 'measurement_17']]"
   ]
  },
  {
   "cell_type": "code",
   "execution_count": 7,
   "metadata": {},
   "outputs": [
    {
     "name": "stdout",
     "output_type": "stream",
     "text": [
      "(26570, 24) (26570, 31)\n"
     ]
    }
   ],
   "source": [
    "df_X_d = []\n",
    "df_X_d = pd.get_dummies(df_X)\n",
    "\n",
    "print(df_X.shape, df_X_d.shape)"
   ]
  },
  {
   "cell_type": "code",
   "execution_count": 8,
   "metadata": {},
   "outputs": [
    {
     "data": {
      "text/plain": [
       "Index(['product_code', 'loading', 'attribute_0', 'attribute_1', 'attribute_2',\n",
       "       'attribute_3', 'measurement_0', 'measurement_1', 'measurement_2',\n",
       "       'measurement_3', 'measurement_4', 'measurement_5', 'measurement_6',\n",
       "       'measurement_7', 'measurement_8', 'measurement_9', 'measurement_10',\n",
       "       'measurement_11', 'measurement_12', 'measurement_13', 'measurement_14',\n",
       "       'measurement_15', 'measurement_16', 'measurement_17'],\n",
       "      dtype='object')"
      ]
     },
     "execution_count": 8,
     "metadata": {},
     "output_type": "execute_result"
    }
   ],
   "source": [
    "df_X.columns"
   ]
  },
  {
   "cell_type": "code",
   "execution_count": 9,
   "metadata": {},
   "outputs": [
    {
     "data": {
      "text/plain": [
       "Index(['loading', 'attribute_2', 'attribute_3', 'measurement_0',\n",
       "       'measurement_1', 'measurement_2', 'measurement_3', 'measurement_4',\n",
       "       'measurement_5', 'measurement_6', 'measurement_7', 'measurement_8',\n",
       "       'measurement_9', 'measurement_10', 'measurement_11', 'measurement_12',\n",
       "       'measurement_13', 'measurement_14', 'measurement_15', 'measurement_16',\n",
       "       'measurement_17', 'product_code_A', 'product_code_B', 'product_code_C',\n",
       "       'product_code_D', 'product_code_E', 'attribute_0_material_5',\n",
       "       'attribute_0_material_7', 'attribute_1_material_5',\n",
       "       'attribute_1_material_6', 'attribute_1_material_8'],\n",
       "      dtype='object')"
      ]
     },
     "execution_count": 9,
     "metadata": {},
     "output_type": "execute_result"
    }
   ],
   "source": [
    "df_X_d.columns"
   ]
  },
  {
   "cell_type": "code",
   "execution_count": 10,
   "metadata": {},
   "outputs": [
    {
     "data": {
      "text/html": [
       "<div>\n",
       "<style scoped>\n",
       "    .dataframe tbody tr th:only-of-type {\n",
       "        vertical-align: middle;\n",
       "    }\n",
       "\n",
       "    .dataframe tbody tr th {\n",
       "        vertical-align: top;\n",
       "    }\n",
       "\n",
       "    .dataframe thead th {\n",
       "        text-align: right;\n",
       "    }\n",
       "</style>\n",
       "<table border=\"1\" class=\"dataframe\">\n",
       "  <thead>\n",
       "    <tr style=\"text-align: right;\">\n",
       "      <th></th>\n",
       "      <th>id</th>\n",
       "      <th>product_code</th>\n",
       "      <th>loading</th>\n",
       "      <th>attribute_0</th>\n",
       "      <th>attribute_1</th>\n",
       "      <th>attribute_2</th>\n",
       "      <th>attribute_3</th>\n",
       "      <th>measurement_0</th>\n",
       "      <th>measurement_1</th>\n",
       "      <th>measurement_2</th>\n",
       "      <th>...</th>\n",
       "      <th>measurement_9</th>\n",
       "      <th>measurement_10</th>\n",
       "      <th>measurement_11</th>\n",
       "      <th>measurement_12</th>\n",
       "      <th>measurement_13</th>\n",
       "      <th>measurement_14</th>\n",
       "      <th>measurement_15</th>\n",
       "      <th>measurement_16</th>\n",
       "      <th>measurement_17</th>\n",
       "      <th>failure</th>\n",
       "    </tr>\n",
       "  </thead>\n",
       "  <tbody>\n",
       "    <tr>\n",
       "      <th>0</th>\n",
       "      <td>0</td>\n",
       "      <td>A</td>\n",
       "      <td>80.10</td>\n",
       "      <td>material_7</td>\n",
       "      <td>material_8</td>\n",
       "      <td>9</td>\n",
       "      <td>5</td>\n",
       "      <td>7</td>\n",
       "      <td>8</td>\n",
       "      <td>4</td>\n",
       "      <td>...</td>\n",
       "      <td>10.672</td>\n",
       "      <td>15.859</td>\n",
       "      <td>17.594</td>\n",
       "      <td>15.193</td>\n",
       "      <td>15.029</td>\n",
       "      <td>NaN</td>\n",
       "      <td>13.034</td>\n",
       "      <td>14.684</td>\n",
       "      <td>764.100</td>\n",
       "      <td>0</td>\n",
       "    </tr>\n",
       "    <tr>\n",
       "      <th>1</th>\n",
       "      <td>1</td>\n",
       "      <td>A</td>\n",
       "      <td>84.89</td>\n",
       "      <td>material_7</td>\n",
       "      <td>material_8</td>\n",
       "      <td>9</td>\n",
       "      <td>5</td>\n",
       "      <td>14</td>\n",
       "      <td>3</td>\n",
       "      <td>3</td>\n",
       "      <td>...</td>\n",
       "      <td>12.448</td>\n",
       "      <td>17.947</td>\n",
       "      <td>17.915</td>\n",
       "      <td>11.755</td>\n",
       "      <td>14.732</td>\n",
       "      <td>15.425</td>\n",
       "      <td>14.395</td>\n",
       "      <td>15.631</td>\n",
       "      <td>682.057</td>\n",
       "      <td>0</td>\n",
       "    </tr>\n",
       "  </tbody>\n",
       "</table>\n",
       "<p>2 rows × 26 columns</p>\n",
       "</div>"
      ],
      "text/plain": [
       "   id product_code  loading attribute_0 attribute_1  attribute_2  attribute_3  \\\n",
       "0   0            A    80.10  material_7  material_8            9            5   \n",
       "1   1            A    84.89  material_7  material_8            9            5   \n",
       "\n",
       "   measurement_0  measurement_1  measurement_2  ...  measurement_9  \\\n",
       "0              7              8              4  ...         10.672   \n",
       "1             14              3              3  ...         12.448   \n",
       "\n",
       "   measurement_10  measurement_11  measurement_12  measurement_13  \\\n",
       "0          15.859          17.594          15.193          15.029   \n",
       "1          17.947          17.915          11.755          14.732   \n",
       "\n",
       "   measurement_14  measurement_15  measurement_16  measurement_17  failure  \n",
       "0             NaN          13.034          14.684         764.100        0  \n",
       "1          15.425          14.395          15.631         682.057        0  \n",
       "\n",
       "[2 rows x 26 columns]"
      ]
     },
     "execution_count": 10,
     "metadata": {},
     "output_type": "execute_result"
    }
   ],
   "source": [
    "df.head(2)"
   ]
  },
  {
   "cell_type": "code",
   "execution_count": 11,
   "metadata": {},
   "outputs": [
    {
     "data": {
      "text/html": [
       "<div>\n",
       "<style scoped>\n",
       "    .dataframe tbody tr th:only-of-type {\n",
       "        vertical-align: middle;\n",
       "    }\n",
       "\n",
       "    .dataframe tbody tr th {\n",
       "        vertical-align: top;\n",
       "    }\n",
       "\n",
       "    .dataframe thead th {\n",
       "        text-align: right;\n",
       "    }\n",
       "</style>\n",
       "<table border=\"1\" class=\"dataframe\">\n",
       "  <thead>\n",
       "    <tr style=\"text-align: right;\">\n",
       "      <th></th>\n",
       "      <th>loading</th>\n",
       "      <th>attribute_2</th>\n",
       "      <th>attribute_3</th>\n",
       "      <th>measurement_0</th>\n",
       "      <th>measurement_1</th>\n",
       "      <th>measurement_2</th>\n",
       "      <th>measurement_3</th>\n",
       "      <th>measurement_4</th>\n",
       "      <th>measurement_5</th>\n",
       "      <th>measurement_6</th>\n",
       "      <th>...</th>\n",
       "      <th>product_code_A</th>\n",
       "      <th>product_code_B</th>\n",
       "      <th>product_code_C</th>\n",
       "      <th>product_code_D</th>\n",
       "      <th>product_code_E</th>\n",
       "      <th>attribute_0_material_5</th>\n",
       "      <th>attribute_0_material_7</th>\n",
       "      <th>attribute_1_material_5</th>\n",
       "      <th>attribute_1_material_6</th>\n",
       "      <th>attribute_1_material_8</th>\n",
       "    </tr>\n",
       "  </thead>\n",
       "  <tbody>\n",
       "    <tr>\n",
       "      <th>0</th>\n",
       "      <td>80.10</td>\n",
       "      <td>9</td>\n",
       "      <td>5</td>\n",
       "      <td>7</td>\n",
       "      <td>8</td>\n",
       "      <td>4</td>\n",
       "      <td>18.040</td>\n",
       "      <td>12.518</td>\n",
       "      <td>15.748</td>\n",
       "      <td>19.292</td>\n",
       "      <td>...</td>\n",
       "      <td>1</td>\n",
       "      <td>0</td>\n",
       "      <td>0</td>\n",
       "      <td>0</td>\n",
       "      <td>0</td>\n",
       "      <td>0</td>\n",
       "      <td>1</td>\n",
       "      <td>0</td>\n",
       "      <td>0</td>\n",
       "      <td>1</td>\n",
       "    </tr>\n",
       "    <tr>\n",
       "      <th>1</th>\n",
       "      <td>84.89</td>\n",
       "      <td>9</td>\n",
       "      <td>5</td>\n",
       "      <td>14</td>\n",
       "      <td>3</td>\n",
       "      <td>3</td>\n",
       "      <td>18.213</td>\n",
       "      <td>11.540</td>\n",
       "      <td>17.717</td>\n",
       "      <td>17.893</td>\n",
       "      <td>...</td>\n",
       "      <td>1</td>\n",
       "      <td>0</td>\n",
       "      <td>0</td>\n",
       "      <td>0</td>\n",
       "      <td>0</td>\n",
       "      <td>0</td>\n",
       "      <td>1</td>\n",
       "      <td>0</td>\n",
       "      <td>0</td>\n",
       "      <td>1</td>\n",
       "    </tr>\n",
       "  </tbody>\n",
       "</table>\n",
       "<p>2 rows × 31 columns</p>\n",
       "</div>"
      ],
      "text/plain": [
       "   loading  attribute_2  attribute_3  measurement_0  measurement_1  \\\n",
       "0    80.10            9            5              7              8   \n",
       "1    84.89            9            5             14              3   \n",
       "\n",
       "   measurement_2  measurement_3  measurement_4  measurement_5  measurement_6  \\\n",
       "0              4         18.040         12.518         15.748         19.292   \n",
       "1              3         18.213         11.540         17.717         17.893   \n",
       "\n",
       "   ...  product_code_A  product_code_B  product_code_C  product_code_D  \\\n",
       "0  ...               1               0               0               0   \n",
       "1  ...               1               0               0               0   \n",
       "\n",
       "   product_code_E  attribute_0_material_5  attribute_0_material_7  \\\n",
       "0               0                       0                       1   \n",
       "1               0                       0                       1   \n",
       "\n",
       "   attribute_1_material_5  attribute_1_material_6  attribute_1_material_8  \n",
       "0                       0                       0                       1  \n",
       "1                       0                       0                       1  \n",
       "\n",
       "[2 rows x 31 columns]"
      ]
     },
     "execution_count": 11,
     "metadata": {},
     "output_type": "execute_result"
    }
   ],
   "source": [
    "df_X_d.head(2)"
   ]
  },
  {
   "cell_type": "code",
   "execution_count": 12,
   "metadata": {},
   "outputs": [
    {
     "data": {
      "text/plain": [
       "Index(['id', 'product_code', 'loading', 'attribute_0', 'attribute_1',\n",
       "       'attribute_2', 'attribute_3', 'measurement_0', 'measurement_1',\n",
       "       'measurement_2', 'measurement_3', 'measurement_4', 'measurement_5',\n",
       "       'measurement_6', 'measurement_7', 'measurement_8', 'measurement_9',\n",
       "       'measurement_10', 'measurement_11', 'measurement_12', 'measurement_13',\n",
       "       'measurement_14', 'measurement_15', 'measurement_16', 'measurement_17',\n",
       "       'failure'],\n",
       "      dtype='object')"
      ]
     },
     "execution_count": 12,
     "metadata": {},
     "output_type": "execute_result"
    }
   ],
   "source": [
    "df.columns"
   ]
  },
  {
   "cell_type": "code",
   "execution_count": 13,
   "metadata": {},
   "outputs": [],
   "source": [
    "df_y = df[['failure']]"
   ]
  },
  {
   "cell_type": "code",
   "execution_count": 14,
   "metadata": {},
   "outputs": [],
   "source": [
    "from sklearn.model_selection import train_test_split"
   ]
  },
  {
   "cell_type": "code",
   "execution_count": 15,
   "metadata": {},
   "outputs": [
    {
     "name": "stdout",
     "output_type": "stream",
     "text": [
      "(17801, 31) (8769, 31) (17801, 1) (8769, 1)\n"
     ]
    }
   ],
   "source": [
    "X_train, X_test, y_train, y_test = train_test_split(df_X_d, df_y, test_size=0.33) #, random_state=42)\n",
    "print(X_train.shape, X_test.shape, y_train.shape, y_test.shape)"
   ]
  },
  {
   "cell_type": "markdown",
   "metadata": {},
   "source": [
    "### Address class imbalance in target"
   ]
  },
  {
   "cell_type": "code",
   "execution_count": 18,
   "metadata": {},
   "outputs": [],
   "source": [
    "from imblearn.over_sampling import SMOTE"
   ]
  },
  {
   "cell_type": "code",
   "execution_count": 22,
   "metadata": {},
   "outputs": [
    {
     "name": "stdout",
     "output_type": "stream",
     "text": [
      "(17801, 31)\n",
      "(17801, 31)\n"
     ]
    }
   ],
   "source": [
    "# simple example: # note: https://www.kaggle.com/code/ryanluoli2/blended-6-models-for-a-better-score\n",
    "\n",
    "print(X_train.shape)\n",
    "\n",
    "#oversample = SMOTE() # need to clean data more before smote (nan, infinity, . . . )\n",
    "#X_train, y_train = oversample.fit_resample(X_train, y_train)\n",
    "\n",
    "print(X_train.shape)"
   ]
  },
  {
   "cell_type": "markdown",
   "metadata": {},
   "source": [
    "### Build baseline xgboost classifier"
   ]
  },
  {
   "cell_type": "code",
   "execution_count": 23,
   "metadata": {},
   "outputs": [],
   "source": [
    "import xgboost as xgb"
   ]
  },
  {
   "cell_type": "code",
   "execution_count": 24,
   "metadata": {},
   "outputs": [],
   "source": [
    "xgb_clf = xgb.XGBClassifier()"
   ]
  },
  {
   "cell_type": "code",
   "execution_count": 25,
   "metadata": {},
   "outputs": [
    {
     "name": "stderr",
     "output_type": "stream",
     "text": [
      "C:\\Users\\m85302\\Anaconda3b\\envs\\seqDarts1\\lib\\site-packages\\xgboost\\sklearn.py:1224: UserWarning: The use of label encoder in XGBClassifier is deprecated and will be removed in a future release. To remove this warning, do the following: 1) Pass option use_label_encoder=False when constructing XGBClassifier object; and 2) Encode your labels (y) as integers starting with 0, i.e. 0, 1, 2, ..., [num_class - 1].\n",
      "  warnings.warn(label_encoder_deprecation_msg, UserWarning)\n",
      "C:\\Users\\m85302\\Anaconda3b\\envs\\seqDarts1\\lib\\site-packages\\sklearn\\preprocessing\\_label.py:98: DataConversionWarning: A column-vector y was passed when a 1d array was expected. Please change the shape of y to (n_samples, ), for example using ravel().\n",
      "  y = column_or_1d(y, warn=True)\n",
      "C:\\Users\\m85302\\Anaconda3b\\envs\\seqDarts1\\lib\\site-packages\\sklearn\\preprocessing\\_label.py:133: DataConversionWarning: A column-vector y was passed when a 1d array was expected. Please change the shape of y to (n_samples, ), for example using ravel().\n",
      "  y = column_or_1d(y, warn=True)\n"
     ]
    },
    {
     "name": "stdout",
     "output_type": "stream",
     "text": [
      "[23:29:15] WARNING: D:\\bld\\xgboost-split_1645118015404\\work\\src\\learner.cc:1115: Starting in XGBoost 1.3.0, the default evaluation metric used with the objective 'binary:logistic' was changed from 'error' to 'logloss'. Explicitly set eval_metric if you'd like to restore the old behavior.\n"
     ]
    },
    {
     "data": {
      "text/plain": [
       "XGBClassifier(base_score=0.5, booster='gbtree', colsample_bylevel=1,\n",
       "              colsample_bynode=1, colsample_bytree=1, enable_categorical=False,\n",
       "              gamma=0, gpu_id=-1, importance_type=None,\n",
       "              interaction_constraints='', learning_rate=0.300000012,\n",
       "              max_delta_step=0, max_depth=6, min_child_weight=1, missing=nan,\n",
       "              monotone_constraints='()', n_estimators=100, n_jobs=8,\n",
       "              num_parallel_tree=1, predictor='auto', random_state=0,\n",
       "              reg_alpha=0, reg_lambda=1, scale_pos_weight=1, subsample=1,\n",
       "              tree_method='exact', validate_parameters=1, verbosity=None)"
      ]
     },
     "execution_count": 25,
     "metadata": {},
     "output_type": "execute_result"
    }
   ],
   "source": [
    "xgb_clf.fit(X_train, y_train)"
   ]
  },
  {
   "cell_type": "code",
   "execution_count": 26,
   "metadata": {},
   "outputs": [],
   "source": [
    "y_pred = xgb_clf.predict(X_test)"
   ]
  },
  {
   "cell_type": "code",
   "execution_count": 27,
   "metadata": {},
   "outputs": [],
   "source": [
    "def eval_ml_model(label, y_test_in, y_pred_in):\n",
    "    \"\"\"\n",
    "    Evaluate maching learning (ML) model, binary classification\n",
    "    \"\"\"\n",
    "    # ML model evaluation\n",
    "    from sklearn.metrics import accuracy_score, precision_score\n",
    "    from sklearn.metrics import recall_score, f1_score, roc_auc_score\n",
    "    from sklearn.metrics import confusion_matrix    \n",
    "    \n",
    "    print(label)\n",
    "    print(\" \")\n",
    "    \n",
    "    score_accuracy = accuracy_score(y_test_in, y_pred_in)\n",
    "    score_precision = precision_score(y_test_in, y_pred_in)\n",
    "    score_recall = recall_score(y_test_in, y_pred_in)\n",
    "    score_f1 = f1_score(y_test_in, y_pred_in)\n",
    "    score_roc_auc = roc_auc_score(y_test_in, y_pred_in)\n",
    "    score_confmat = confusion_matrix(y_test_in, y_pred_in)\n",
    "    \n",
    "    print('Accuracy: ', score_accuracy)\n",
    "    print('Precision: ', score_precision)\n",
    "    print('Recall: ', score_recall)\n",
    "    print('F1: ', score_f1)\n",
    "    print('ROC_AUC:', score_roc_auc)\n",
    "    print(score_confmat)\n",
    "    viz_confusion_matrix(score_confmat)\n",
    "    print(\" \")"
   ]
  },
  {
   "cell_type": "code",
   "execution_count": 28,
   "metadata": {},
   "outputs": [],
   "source": [
    "def viz_confusion_matrix(confmat):\n",
    "    fig, ax = plt.subplots(figsize=(2.5, 2.5))\n",
    "    ax.matshow(confmat, cmap=plt.cm.Blues, alpha=0.3)\n",
    "    for i in range(confmat.shape[0]):\n",
    "        for j in range(confmat.shape[1]):\n",
    "            ax.text(x=j, y=i, s=confmat[i, j], va='center', ha='center')\n",
    "\n",
    "    plt.xlabel('predicted label')\n",
    "    plt.ylabel('true label')\n",
    "\n",
    "    plt.tight_layout()\n",
    "    # plt.savefig('./figures/confusion_matrix.png', dpi=300)\n",
    "    plt.show()"
   ]
  },
  {
   "cell_type": "code",
   "execution_count": 29,
   "metadata": {},
   "outputs": [
    {
     "name": "stdout",
     "output_type": "stream",
     "text": [
      "Label\n",
      " \n",
      "Accuracy:  0.7736343938875584\n",
      "Precision:  0.299625468164794\n",
      "Recall:  0.042598509052183174\n",
      "F1:  0.0745920745920746\n",
      "ROC_AUC: 0.5077308319459145\n",
      "[[6704  187]\n",
      " [1798   80]]\n"
     ]
    },
    {
     "data": {
      "image/png": "[encoded data removed]",
      "text/plain": [
       "<Figure size 180x180 with 1 Axes>"
      ]
     },
     "metadata": {
      "needs_background": "light"
     },
     "output_type": "display_data"
    },
    {
     "name": "stdout",
     "output_type": "stream",
     "text": [
      " \n"
     ]
    }
   ],
   "source": [
    "eval_ml_model('Label', y_test, y_pred)"
   ]
  },
  {
   "cell_type": "code",
   "execution_count": 30,
   "metadata": {},
   "outputs": [],
   "source": [
    "def correlation_heatmap(train):\n",
    "    '''\n",
    "    see: https://mljar.com/blog/feature-importance-xgboost/\n",
    "    '''\n",
    "    correlations = train.corr()\n",
    "\n",
    "    fig, ax = plt.subplots(figsize=(10,10))\n",
    "    sns.heatmap(correlations, vmax=1.0, center=0, fmt='.2f', cmap=\"YlGnBu\",\n",
    "                square=True, linewidths=.5, annot=True, cbar_kws={\"shrink\": .70}\n",
    "                )\n",
    "    plt.show();"
   ]
  },
  {
   "cell_type": "code",
   "execution_count": null,
   "metadata": {},
   "outputs": [],
   "source": []
  },
  {
   "cell_type": "code",
   "execution_count": 31,
   "metadata": {},
   "outputs": [
    {
     "data": {
      "image/png": "[encoded data removed]",
      "text/plain": [
       "<Figure size 720x720 with 2 Axes>"
      ]
     },
     "metadata": {
      "needs_background": "light"
     },
     "output_type": "display_data"
    }
   ],
   "source": [
    "#correlation_heatmap(X_train[boston.feature_names[sorted_idx]])\n",
    "correlation_heatmap(df[['measurement_0', 'measurement_1', 'measurement_2', \n",
    "                           'measurement_3', 'measurement_4', 'measurement_5',\n",
    "                           'measurement_6', 'measurement_7', 'measurement_8',\n",
    "                           'measurement_9', 'measurement_10', 'measurement_11',\n",
    "                            'measurement_15',\n",
    "                          'failure'\n",
    "                          ]])"
   ]
  },
  {
   "cell_type": "code",
   "execution_count": 32,
   "metadata": {},
   "outputs": [
    {
     "data": {
      "text/plain": [
       "<AxesSubplot:title={'center':'Feature importance'}, xlabel='F score', ylabel='Features'>"
      ]
     },
     "execution_count": 32,
     "metadata": {},
     "output_type": "execute_result"
    },
    {
     "data": {
      "text/plain": [
       "<Figure size 1440x1440 with 0 Axes>"
      ]
     },
     "metadata": {},
     "output_type": "display_data"
    },
    {
     "data": {
      "image/png": "[encoded data removed]",
      "text/plain": [
       "<Figure size 432x288 with 1 Axes>"
      ]
     },
     "metadata": {
      "needs_background": "light"
     },
     "output_type": "display_data"
    }
   ],
   "source": [
    "plt.figure(figsize=(20,20))\n",
    "xgb.plot_importance(xgb_clf, height=0.1)"
   ]
  },
  {
   "cell_type": "markdown",
   "metadata": {},
   "source": [
    "https://xgboost.readthedocs.io/en/stable/python/python_api.html\n",
    "\n",
    "xgboost.plot_importance(booster, ax=None, height=0.2, xlim=None, ylim=None, title='Feature importance', xlabel='F score', ylabel='Features', fmap='', importance_type='weight', max_num_features=None, grid=True, show_values=True, **kwargs)"
   ]
  },
  {
   "cell_type": "code",
   "execution_count": 33,
   "metadata": {},
   "outputs": [
    {
     "data": {
      "text/plain": [
       "<AxesSubplot:title={'center':'Feature importance'}, xlabel='F score', ylabel='Features'>"
      ]
     },
     "execution_count": 33,
     "metadata": {},
     "output_type": "execute_result"
    },
    {
     "data": {
      "image/png": "[encoded data removed]",
      "text/plain": [
       "<Figure size 720x720 with 1 Axes>"
      ]
     },
     "metadata": {
      "needs_background": "light"
     },
     "output_type": "display_data"
    }
   ],
   "source": [
    "# see: https://stackoverflow.com/questions/40664776/how-to-change-size-of-plot-in-xgboost-plot-importance\n",
    "\n",
    "plt.style.use('seaborn-poster')\n",
    "\n",
    "fig, ax = plt.subplots(figsize=(10, 10)) # h,2\n",
    "#xgb.plot_importance(xgb_clf, height=0.5, ax=ax)\n",
    "xgb.plot_importance(xgb_clf, height=0.5, ax=ax,\n",
    "                    importance_type='weight', #max_num_features=20\n",
    "                   )"
   ]
  },
  {
   "cell_type": "code",
   "execution_count": null,
   "metadata": {},
   "outputs": [],
   "source": [
    "# xgb.plot_tree(xgb_clf, num_trees=1) # ModuleNotFoundError: No module named 'graphviz'"
   ]
  },
  {
   "cell_type": "markdown",
   "metadata": {},
   "source": [
    "### Prepare training columns for CE "
   ]
  },
  {
   "cell_type": "code",
   "execution_count": 34,
   "metadata": {},
   "outputs": [
    {
     "data": {
      "text/html": [
       "<div>\n",
       "<style scoped>\n",
       "    .dataframe tbody tr th:only-of-type {\n",
       "        vertical-align: middle;\n",
       "    }\n",
       "\n",
       "    .dataframe tbody tr th {\n",
       "        vertical-align: top;\n",
       "    }\n",
       "\n",
       "    .dataframe thead th {\n",
       "        text-align: right;\n",
       "    }\n",
       "</style>\n",
       "<table border=\"1\" class=\"dataframe\">\n",
       "  <thead>\n",
       "    <tr style=\"text-align: right;\">\n",
       "      <th></th>\n",
       "      <th>product_code</th>\n",
       "      <th>loading</th>\n",
       "      <th>attribute_0</th>\n",
       "      <th>attribute_1</th>\n",
       "      <th>attribute_2</th>\n",
       "      <th>attribute_3</th>\n",
       "      <th>measurement_0</th>\n",
       "      <th>measurement_1</th>\n",
       "      <th>measurement_2</th>\n",
       "      <th>measurement_3</th>\n",
       "      <th>...</th>\n",
       "      <th>measurement_8</th>\n",
       "      <th>measurement_9</th>\n",
       "      <th>measurement_10</th>\n",
       "      <th>measurement_11</th>\n",
       "      <th>measurement_12</th>\n",
       "      <th>measurement_13</th>\n",
       "      <th>measurement_14</th>\n",
       "      <th>measurement_15</th>\n",
       "      <th>measurement_16</th>\n",
       "      <th>measurement_17</th>\n",
       "    </tr>\n",
       "  </thead>\n",
       "  <tbody>\n",
       "    <tr>\n",
       "      <th>0</th>\n",
       "      <td>A</td>\n",
       "      <td>80.10</td>\n",
       "      <td>material_7</td>\n",
       "      <td>material_8</td>\n",
       "      <td>9</td>\n",
       "      <td>5</td>\n",
       "      <td>7</td>\n",
       "      <td>8</td>\n",
       "      <td>4</td>\n",
       "      <td>18.040</td>\n",
       "      <td>...</td>\n",
       "      <td>20.155</td>\n",
       "      <td>10.672</td>\n",
       "      <td>15.859</td>\n",
       "      <td>17.594</td>\n",
       "      <td>15.193</td>\n",
       "      <td>15.029</td>\n",
       "      <td>NaN</td>\n",
       "      <td>13.034</td>\n",
       "      <td>14.684</td>\n",
       "      <td>764.100</td>\n",
       "    </tr>\n",
       "    <tr>\n",
       "      <th>1</th>\n",
       "      <td>A</td>\n",
       "      <td>84.89</td>\n",
       "      <td>material_7</td>\n",
       "      <td>material_8</td>\n",
       "      <td>9</td>\n",
       "      <td>5</td>\n",
       "      <td>14</td>\n",
       "      <td>3</td>\n",
       "      <td>3</td>\n",
       "      <td>18.213</td>\n",
       "      <td>...</td>\n",
       "      <td>17.889</td>\n",
       "      <td>12.448</td>\n",
       "      <td>17.947</td>\n",
       "      <td>17.915</td>\n",
       "      <td>11.755</td>\n",
       "      <td>14.732</td>\n",
       "      <td>15.425</td>\n",
       "      <td>14.395</td>\n",
       "      <td>15.631</td>\n",
       "      <td>682.057</td>\n",
       "    </tr>\n",
       "  </tbody>\n",
       "</table>\n",
       "<p>2 rows × 24 columns</p>\n",
       "</div>"
      ],
      "text/plain": [
       "  product_code  loading attribute_0 attribute_1  attribute_2  attribute_3  \\\n",
       "0            A    80.10  material_7  material_8            9            5   \n",
       "1            A    84.89  material_7  material_8            9            5   \n",
       "\n",
       "   measurement_0  measurement_1  measurement_2  measurement_3  ...  \\\n",
       "0              7              8              4         18.040  ...   \n",
       "1             14              3              3         18.213  ...   \n",
       "\n",
       "   measurement_8  measurement_9  measurement_10  measurement_11  \\\n",
       "0         20.155         10.672          15.859          17.594   \n",
       "1         17.889         12.448          17.947          17.915   \n",
       "\n",
       "   measurement_12  measurement_13  measurement_14  measurement_15  \\\n",
       "0          15.193          15.029             NaN          13.034   \n",
       "1          11.755          14.732          15.425          14.395   \n",
       "\n",
       "   measurement_16  measurement_17  \n",
       "0          14.684         764.100  \n",
       "1          15.631         682.057  \n",
       "\n",
       "[2 rows x 24 columns]"
      ]
     },
     "execution_count": 34,
     "metadata": {},
     "output_type": "execute_result"
    }
   ],
   "source": [
    "df_X.head(2)"
   ]
  },
  {
   "cell_type": "code",
   "execution_count": 35,
   "metadata": {},
   "outputs": [
    {
     "data": {
      "text/html": [
       "<div>\n",
       "<style scoped>\n",
       "    .dataframe tbody tr th:only-of-type {\n",
       "        vertical-align: middle;\n",
       "    }\n",
       "\n",
       "    .dataframe tbody tr th {\n",
       "        vertical-align: top;\n",
       "    }\n",
       "\n",
       "    .dataframe thead th {\n",
       "        text-align: right;\n",
       "    }\n",
       "</style>\n",
       "<table border=\"1\" class=\"dataframe\">\n",
       "  <thead>\n",
       "    <tr style=\"text-align: right;\">\n",
       "      <th></th>\n",
       "      <th>id</th>\n",
       "      <th>product_code</th>\n",
       "      <th>loading</th>\n",
       "      <th>attribute_0</th>\n",
       "      <th>attribute_1</th>\n",
       "      <th>attribute_2</th>\n",
       "      <th>attribute_3</th>\n",
       "      <th>measurement_0</th>\n",
       "      <th>measurement_1</th>\n",
       "      <th>measurement_2</th>\n",
       "      <th>...</th>\n",
       "      <th>measurement_9</th>\n",
       "      <th>measurement_10</th>\n",
       "      <th>measurement_11</th>\n",
       "      <th>measurement_12</th>\n",
       "      <th>measurement_13</th>\n",
       "      <th>measurement_14</th>\n",
       "      <th>measurement_15</th>\n",
       "      <th>measurement_16</th>\n",
       "      <th>measurement_17</th>\n",
       "      <th>failure</th>\n",
       "    </tr>\n",
       "  </thead>\n",
       "  <tbody>\n",
       "    <tr>\n",
       "      <th>0</th>\n",
       "      <td>0</td>\n",
       "      <td>A</td>\n",
       "      <td>80.10</td>\n",
       "      <td>material_7</td>\n",
       "      <td>material_8</td>\n",
       "      <td>9</td>\n",
       "      <td>5</td>\n",
       "      <td>7</td>\n",
       "      <td>8</td>\n",
       "      <td>4</td>\n",
       "      <td>...</td>\n",
       "      <td>10.672</td>\n",
       "      <td>15.859</td>\n",
       "      <td>17.594</td>\n",
       "      <td>15.193</td>\n",
       "      <td>15.029</td>\n",
       "      <td>NaN</td>\n",
       "      <td>13.034</td>\n",
       "      <td>14.684</td>\n",
       "      <td>764.100</td>\n",
       "      <td>0</td>\n",
       "    </tr>\n",
       "    <tr>\n",
       "      <th>1</th>\n",
       "      <td>1</td>\n",
       "      <td>A</td>\n",
       "      <td>84.89</td>\n",
       "      <td>material_7</td>\n",
       "      <td>material_8</td>\n",
       "      <td>9</td>\n",
       "      <td>5</td>\n",
       "      <td>14</td>\n",
       "      <td>3</td>\n",
       "      <td>3</td>\n",
       "      <td>...</td>\n",
       "      <td>12.448</td>\n",
       "      <td>17.947</td>\n",
       "      <td>17.915</td>\n",
       "      <td>11.755</td>\n",
       "      <td>14.732</td>\n",
       "      <td>15.425</td>\n",
       "      <td>14.395</td>\n",
       "      <td>15.631</td>\n",
       "      <td>682.057</td>\n",
       "      <td>0</td>\n",
       "    </tr>\n",
       "  </tbody>\n",
       "</table>\n",
       "<p>2 rows × 26 columns</p>\n",
       "</div>"
      ],
      "text/plain": [
       "   id product_code  loading attribute_0 attribute_1  attribute_2  attribute_3  \\\n",
       "0   0            A    80.10  material_7  material_8            9            5   \n",
       "1   1            A    84.89  material_7  material_8            9            5   \n",
       "\n",
       "   measurement_0  measurement_1  measurement_2  ...  measurement_9  \\\n",
       "0              7              8              4  ...         10.672   \n",
       "1             14              3              3  ...         12.448   \n",
       "\n",
       "   measurement_10  measurement_11  measurement_12  measurement_13  \\\n",
       "0          15.859          17.594          15.193          15.029   \n",
       "1          17.947          17.915          11.755          14.732   \n",
       "\n",
       "   measurement_14  measurement_15  measurement_16  measurement_17  failure  \n",
       "0             NaN          13.034          14.684         764.100        0  \n",
       "1          15.425          14.395          15.631         682.057        0  \n",
       "\n",
       "[2 rows x 26 columns]"
      ]
     },
     "execution_count": 35,
     "metadata": {},
     "output_type": "execute_result"
    }
   ],
   "source": [
    "df.head(2)"
   ]
  },
  {
   "cell_type": "code",
   "execution_count": 36,
   "metadata": {},
   "outputs": [
    {
     "data": {
      "text/plain": [
       "Index(['id', 'product_code', 'loading', 'attribute_0', 'attribute_1',\n",
       "       'attribute_2', 'attribute_3', 'measurement_0', 'measurement_1',\n",
       "       'measurement_2', 'measurement_3', 'measurement_4', 'measurement_5',\n",
       "       'measurement_6', 'measurement_7', 'measurement_8', 'measurement_9',\n",
       "       'measurement_10', 'measurement_11', 'measurement_12', 'measurement_13',\n",
       "       'measurement_14', 'measurement_15', 'measurement_16', 'measurement_17',\n",
       "       'failure'],\n",
       "      dtype='object')"
      ]
     },
     "execution_count": 36,
     "metadata": {},
     "output_type": "execute_result"
    }
   ],
   "source": [
    "df.columns"
   ]
  },
  {
   "cell_type": "code",
   "execution_count": 37,
   "metadata": {},
   "outputs": [],
   "source": [
    "df_ce = df[['id','failure', 'product_code', 'loading', 'attribute_0', 'attribute_1',\n",
    "       'attribute_2', 'attribute_3', 'measurement_0', 'measurement_1',\n",
    "       'measurement_2', 'measurement_3', 'measurement_4', 'measurement_5',\n",
    "       'measurement_6', 'measurement_7', 'measurement_8', 'measurement_9',\n",
    "       'measurement_10', 'measurement_11', 'measurement_12', 'measurement_13',\n",
    "       'measurement_14', 'measurement_15', 'measurement_16', 'measurement_17']]"
   ]
  },
  {
   "cell_type": "code",
   "execution_count": 38,
   "metadata": {},
   "outputs": [
    {
     "name": "stdout",
     "output_type": "stream",
     "text": [
      "(26570, 26)\n"
     ]
    },
    {
     "data": {
      "text/html": [
       "<div>\n",
       "<style scoped>\n",
       "    .dataframe tbody tr th:only-of-type {\n",
       "        vertical-align: middle;\n",
       "    }\n",
       "\n",
       "    .dataframe tbody tr th {\n",
       "        vertical-align: top;\n",
       "    }\n",
       "\n",
       "    .dataframe thead th {\n",
       "        text-align: right;\n",
       "    }\n",
       "</style>\n",
       "<table border=\"1\" class=\"dataframe\">\n",
       "  <thead>\n",
       "    <tr style=\"text-align: right;\">\n",
       "      <th></th>\n",
       "      <th>id</th>\n",
       "      <th>failure</th>\n",
       "      <th>product_code</th>\n",
       "      <th>loading</th>\n",
       "      <th>attribute_0</th>\n",
       "      <th>attribute_1</th>\n",
       "      <th>attribute_2</th>\n",
       "      <th>attribute_3</th>\n",
       "      <th>measurement_0</th>\n",
       "      <th>measurement_1</th>\n",
       "      <th>...</th>\n",
       "      <th>measurement_8</th>\n",
       "      <th>measurement_9</th>\n",
       "      <th>measurement_10</th>\n",
       "      <th>measurement_11</th>\n",
       "      <th>measurement_12</th>\n",
       "      <th>measurement_13</th>\n",
       "      <th>measurement_14</th>\n",
       "      <th>measurement_15</th>\n",
       "      <th>measurement_16</th>\n",
       "      <th>measurement_17</th>\n",
       "    </tr>\n",
       "  </thead>\n",
       "  <tbody>\n",
       "    <tr>\n",
       "      <th>0</th>\n",
       "      <td>0</td>\n",
       "      <td>0</td>\n",
       "      <td>A</td>\n",
       "      <td>80.10</td>\n",
       "      <td>material_7</td>\n",
       "      <td>material_8</td>\n",
       "      <td>9</td>\n",
       "      <td>5</td>\n",
       "      <td>7</td>\n",
       "      <td>8</td>\n",
       "      <td>...</td>\n",
       "      <td>20.155</td>\n",
       "      <td>10.672</td>\n",
       "      <td>15.859</td>\n",
       "      <td>17.594</td>\n",
       "      <td>15.193</td>\n",
       "      <td>15.029</td>\n",
       "      <td>NaN</td>\n",
       "      <td>13.034</td>\n",
       "      <td>14.684</td>\n",
       "      <td>764.100</td>\n",
       "    </tr>\n",
       "    <tr>\n",
       "      <th>1</th>\n",
       "      <td>1</td>\n",
       "      <td>0</td>\n",
       "      <td>A</td>\n",
       "      <td>84.89</td>\n",
       "      <td>material_7</td>\n",
       "      <td>material_8</td>\n",
       "      <td>9</td>\n",
       "      <td>5</td>\n",
       "      <td>14</td>\n",
       "      <td>3</td>\n",
       "      <td>...</td>\n",
       "      <td>17.889</td>\n",
       "      <td>12.448</td>\n",
       "      <td>17.947</td>\n",
       "      <td>17.915</td>\n",
       "      <td>11.755</td>\n",
       "      <td>14.732</td>\n",
       "      <td>15.425</td>\n",
       "      <td>14.395</td>\n",
       "      <td>15.631</td>\n",
       "      <td>682.057</td>\n",
       "    </tr>\n",
       "    <tr>\n",
       "      <th>2</th>\n",
       "      <td>2</td>\n",
       "      <td>0</td>\n",
       "      <td>A</td>\n",
       "      <td>82.43</td>\n",
       "      <td>material_7</td>\n",
       "      <td>material_8</td>\n",
       "      <td>9</td>\n",
       "      <td>5</td>\n",
       "      <td>12</td>\n",
       "      <td>1</td>\n",
       "      <td>...</td>\n",
       "      <td>18.288</td>\n",
       "      <td>12.715</td>\n",
       "      <td>15.607</td>\n",
       "      <td>NaN</td>\n",
       "      <td>13.798</td>\n",
       "      <td>16.711</td>\n",
       "      <td>18.631</td>\n",
       "      <td>14.094</td>\n",
       "      <td>17.946</td>\n",
       "      <td>663.376</td>\n",
       "    </tr>\n",
       "  </tbody>\n",
       "</table>\n",
       "<p>3 rows × 26 columns</p>\n",
       "</div>"
      ],
      "text/plain": [
       "   id  failure product_code  loading attribute_0 attribute_1  attribute_2  \\\n",
       "0   0        0            A    80.10  material_7  material_8            9   \n",
       "1   1        0            A    84.89  material_7  material_8            9   \n",
       "2   2        0            A    82.43  material_7  material_8            9   \n",
       "\n",
       "   attribute_3  measurement_0  measurement_1  ...  measurement_8  \\\n",
       "0            5              7              8  ...         20.155   \n",
       "1            5             14              3  ...         17.889   \n",
       "2            5             12              1  ...         18.288   \n",
       "\n",
       "   measurement_9  measurement_10  measurement_11  measurement_12  \\\n",
       "0         10.672          15.859          17.594          15.193   \n",
       "1         12.448          17.947          17.915          11.755   \n",
       "2         12.715          15.607             NaN          13.798   \n",
       "\n",
       "   measurement_13  measurement_14  measurement_15  measurement_16  \\\n",
       "0          15.029             NaN          13.034          14.684   \n",
       "1          14.732          15.425          14.395          15.631   \n",
       "2          16.711          18.631          14.094          17.946   \n",
       "\n",
       "   measurement_17  \n",
       "0         764.100  \n",
       "1         682.057  \n",
       "2         663.376  \n",
       "\n",
       "[3 rows x 26 columns]"
      ]
     },
     "execution_count": 38,
     "metadata": {},
     "output_type": "execute_result"
    }
   ],
   "source": [
    "print(df_ce.shape)\n",
    "df_ce.head(3)"
   ]
  },
  {
   "cell_type": "code",
   "execution_count": 39,
   "metadata": {},
   "outputs": [],
   "source": [
    "#df_ce.to_csv('tabularAugKggl_cols4contextualembedd.csv', index=False)"
   ]
  },
  {
   "cell_type": "code",
   "execution_count": null,
   "metadata": {},
   "outputs": [],
   "source": []
  }
 ],
 "metadata": {
  "kernelspec": {
   "display_name": "Python 3",
   "language": "python",
   "name": "python3"
  },
  "language_info": {
   "codemirror_mode": {
    "name": "ipython",
    "version": 3
   },
   "file_extension": ".py",
   "mimetype": "text/x-python",
   "name": "python",
   "nbconvert_exporter": "python",
   "pygments_lexer": "ipython3",
   "version": "3.8.5"
  }
 },
 "nbformat": 4,
 "nbformat_minor": 5
}
